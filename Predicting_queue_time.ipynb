{
 "cells": [
  {
   "cell_type": "code",
   "execution_count": 1,
   "metadata": {},
   "outputs": [],
   "source": [
    "import pandas as pd\n",
    "import numpy as np\n",
    "from sklearn.model_selection import train_test_split\n",
    "from sklearn.ensemble import RandomForestRegressor"
   ]
  },
  {
   "cell_type": "code",
   "execution_count": 2,
   "metadata": {},
   "outputs": [],
   "source": [
    "column_name = ['Queue_number','Shift','date','Created_queue_hours','Created_queue_week','Waiting_duration','Number_of_wating_queue','Arrival_rate','Service_rate']\n",
    "data = pd.read_csv('http://bit.ly/deepblue_data',header=0,names = column_name)"
   ]
  },
  {
   "cell_type": "code",
   "execution_count": 3,
   "metadata": {},
   "outputs": [
    {
     "data": {
      "text/html": [
       "<div>\n",
       "<style scoped>\n",
       "    .dataframe tbody tr th:only-of-type {\n",
       "        vertical-align: middle;\n",
       "    }\n",
       "\n",
       "    .dataframe tbody tr th {\n",
       "        vertical-align: top;\n",
       "    }\n",
       "\n",
       "    .dataframe thead th {\n",
       "        text-align: right;\n",
       "    }\n",
       "</style>\n",
       "<table border=\"1\" class=\"dataframe\">\n",
       "  <thead>\n",
       "    <tr style=\"text-align: right;\">\n",
       "      <th></th>\n",
       "      <th>Queue_number</th>\n",
       "      <th>Shift</th>\n",
       "      <th>date</th>\n",
       "      <th>Created_queue_hours</th>\n",
       "      <th>Created_queue_week</th>\n",
       "      <th>Waiting_duration</th>\n",
       "      <th>Number_of_wating_queue</th>\n",
       "      <th>Arrival_rate</th>\n",
       "      <th>Service_rate</th>\n",
       "    </tr>\n",
       "  </thead>\n",
       "  <tbody>\n",
       "    <tr>\n",
       "      <th>0</th>\n",
       "      <td>101</td>\n",
       "      <td>1</td>\n",
       "      <td>01/01/2020</td>\n",
       "      <td>8</td>\n",
       "      <td>1</td>\n",
       "      <td>0.08</td>\n",
       "      <td>0</td>\n",
       "      <td>4</td>\n",
       "      <td>2</td>\n",
       "    </tr>\n",
       "    <tr>\n",
       "      <th>1</th>\n",
       "      <td>101</td>\n",
       "      <td>1</td>\n",
       "      <td>01/01/2020</td>\n",
       "      <td>8</td>\n",
       "      <td>1</td>\n",
       "      <td>0.14</td>\n",
       "      <td>1</td>\n",
       "      <td>4</td>\n",
       "      <td>2</td>\n",
       "    </tr>\n",
       "    <tr>\n",
       "      <th>2</th>\n",
       "      <td>101</td>\n",
       "      <td>1</td>\n",
       "      <td>01/01/2020</td>\n",
       "      <td>8</td>\n",
       "      <td>1</td>\n",
       "      <td>0.21</td>\n",
       "      <td>2</td>\n",
       "      <td>4</td>\n",
       "      <td>1</td>\n",
       "    </tr>\n",
       "    <tr>\n",
       "      <th>3</th>\n",
       "      <td>101</td>\n",
       "      <td>1</td>\n",
       "      <td>01/01/2020</td>\n",
       "      <td>8</td>\n",
       "      <td>1</td>\n",
       "      <td>0.27</td>\n",
       "      <td>3</td>\n",
       "      <td>4</td>\n",
       "      <td>1</td>\n",
       "    </tr>\n",
       "    <tr>\n",
       "      <th>4</th>\n",
       "      <td>101</td>\n",
       "      <td>1</td>\n",
       "      <td>01/01/2020</td>\n",
       "      <td>8</td>\n",
       "      <td>1</td>\n",
       "      <td>0.30</td>\n",
       "      <td>3</td>\n",
       "      <td>2</td>\n",
       "      <td>1</td>\n",
       "    </tr>\n",
       "  </tbody>\n",
       "</table>\n",
       "</div>"
      ],
      "text/plain": [
       "   Queue_number  Shift        date  Created_queue_hours  Created_queue_week  \\\n",
       "0           101      1  01/01/2020                    8                   1   \n",
       "1           101      1  01/01/2020                    8                   1   \n",
       "2           101      1  01/01/2020                    8                   1   \n",
       "3           101      1  01/01/2020                    8                   1   \n",
       "4           101      1  01/01/2020                    8                   1   \n",
       "\n",
       "   Waiting_duration  Number_of_wating_queue  Arrival_rate  Service_rate  \n",
       "0              0.08                       0             4             2  \n",
       "1              0.14                       1             4             2  \n",
       "2              0.21                       2             4             1  \n",
       "3              0.27                       3             4             1  \n",
       "4              0.30                       3             2             1  "
      ]
     },
     "execution_count": 3,
     "metadata": {},
     "output_type": "execute_result"
    }
   ],
   "source": [
    "data.head()"
   ]
  },
  {
   "cell_type": "code",
   "execution_count": 4,
   "metadata": {},
   "outputs": [],
   "source": [
    "dt = data['date'].str.split('/')\n",
    "dt2 = []\n",
    "for i in dt:\n",
    "    i[0],i[1] = i[1],i[0]\n",
    "    string  = '/'\n",
    "    i = string.join(i)\n",
    "    dt2.append(i)\n"
   ]
  },
  {
   "cell_type": "code",
   "execution_count": 5,
   "metadata": {},
   "outputs": [],
   "source": [
    "data['date'] = pd.Series(dt2)"
   ]
  },
  {
   "cell_type": "code",
   "execution_count": 6,
   "metadata": {},
   "outputs": [],
   "source": [
    "data['date'] =  pd.to_datetime(data['date'])"
   ]
  },
  {
   "cell_type": "code",
   "execution_count": 7,
   "metadata": {},
   "outputs": [],
   "source": [
    "data['weekdays'] = data['date'].dt.weekday"
   ]
  },
  {
   "cell_type": "code",
   "execution_count": 8,
   "metadata": {},
   "outputs": [],
   "source": [
    "data.drop('date',axis=1,inplace=True)"
   ]
  },
  {
   "cell_type": "code",
   "execution_count": 9,
   "metadata": {},
   "outputs": [],
   "source": [
    "y = data['Waiting_duration']\n",
    "X = data.drop('Waiting_duration',axis=1)"
   ]
  },
  {
   "cell_type": "code",
   "execution_count": 10,
   "metadata": {},
   "outputs": [],
   "source": [
    "y = np.array(y)\n",
    "X = np.array(X)"
   ]
  },
  {
   "cell_type": "code",
   "execution_count": 11,
   "metadata": {},
   "outputs": [],
   "source": [
    "X_train,X_test,y_train,y_test = train_test_split(X, y, test_size = 0.30, random_state = 42)"
   ]
  },
  {
   "cell_type": "code",
   "execution_count": 12,
   "metadata": {},
   "outputs": [],
   "source": [
    "rf = RandomForestRegressor(n_estimators = 1000, random_state = 42)\n",
    "rf.fit(X_train,y_train);"
   ]
  },
  {
   "cell_type": "code",
   "execution_count": 13,
   "metadata": {},
   "outputs": [
    {
     "name": "stdout",
     "output_type": "stream",
     "text": [
      "Accuracy: 90.84 %.\n"
     ]
    }
   ],
   "source": [
    "prediction = rf.predict(X_test)\n",
    "error = abs(prediction - y_test)\n",
    "mape = 100*(error/y_test)\n",
    "accuracy = 100 - np.mean(mape)\n",
    "print('Accuracy:', round(accuracy, 2), '%.')"
   ]
  },
  {
   "cell_type": "code",
   "execution_count": 14,
   "metadata": {
    "scrolled": true
   },
   "outputs": [
    {
     "data": {
      "text/plain": [
       "array([3.42855133])"
      ]
     },
     "execution_count": 14,
     "metadata": {},
     "output_type": "execute_result"
    }
   ],
   "source": [
    "prediction_parameter =np.array([[101,   2,  14,   1,  40,   4,   2,   6]])\n",
    "rf.predict(prediction_parameter)"
   ]
  }
 ],
 "metadata": {
  "kernelspec": {
   "display_name": "Python 3",
   "language": "python",
   "name": "python3"
  },
  "language_info": {
   "codemirror_mode": {
    "name": "ipython",
    "version": 3
   },
   "file_extension": ".py",
   "mimetype": "text/x-python",
   "name": "python",
   "nbconvert_exporter": "python",
   "pygments_lexer": "ipython3",
   "version": "3.7.3"
  }
 },
 "nbformat": 4,
 "nbformat_minor": 2
}
